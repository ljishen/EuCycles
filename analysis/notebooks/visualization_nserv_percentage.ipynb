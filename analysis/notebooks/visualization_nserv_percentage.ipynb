{
 "cells": [
  {
   "cell_type": "markdown",
   "metadata": {},
   "source": [
    "# CPU Cycles and Degree of Data Selectivity"
   ]
  },
  {
   "cell_type": "markdown",
   "metadata": {},
   "source": [
    "This experiment evaluates the cost of total CPU cycles during transfering different percentages of the whole **dataset (50GB)** from multiple servers to client using a simple data filtering function. The transmission size range from 10% to 90% of the dataset, which is generated/filled with only digits under uniform distribution, to represent different degree of data selectivity. We hold the following assumption in this experiment as follows,\n",
    "\n",
    "- Both the servers and client have the same CPU model.\n",
    "- Producting workset of high data selectivity (smaller transmission size) consumes more CPU cycles than workset of low data selectivity (larger transmission size)."
   ]
  },
  {
   "cell_type": "markdown",
   "metadata": {},
   "source": [
    "## Data Filtering Function\n",
    "\n",
    "The data filtering function we evaluated in this experiment is a lambda function\n",
    "```python\n",
    "lambda v: v not in list(b'0123456789')[:LEN]\n",
    "```\n",
    "where `LEN` between 1 and 9 is for controling the degree of data selectivity.\n",
    "\n",
    "For each byte in the dataset, we use the above function to check if the current byte should be transmited. Specifically, a bigger `LEN` results in high data selectivity while smller `LEN` permits more bytes in the dataset to be transmited meaning low data selectivity in other words. To verify high data selectivity should cost more CPU cycles than low data selectivity with this function, we have this proof of concept to show the differences of time and cycles consumptions of these two cases:\n",
    "\n",
    "\n",
    "```bash\n",
    "docker run --rm -ti --cap-add SYS_ADMIN ljishen/perf:4.9-python3 stat \\\n",
    "    python3 -m timeit -s \"expr = lambda v: v not in list(b'0123456789')[:9]\" \"expr(48)\"\n",
    "1000000 loops, best of 3: 0.53 usec per loop\n",
    "\n",
    " Performance counter stats for 'python3 -m timeit -s expr = lambda x: x not in list(b'0123456789')[:9] expr(48)':\n",
    "\n",
    "       2498.401472      task-clock (msec)         #    1.000 CPUs utilized          \n",
    "                 3      context-switches          #    0.001 K/sec                  \n",
    "                 0      cpu-migrations            #    0.000 K/sec                  \n",
    "              3627      page-faults               #    0.001 M/sec                  \n",
    "        6914129443      cycles                    #    2.767 GHz                    \n",
    "       16216707149      instructions              #    2.35  insn per cycle         \n",
    "        3711921245      branches                  # 1485.718 M/sec                  \n",
    "           5161883      branch-misses             #    0.14% of all branches        \n",
    "\n",
    "       2.499271785 seconds time elapsed\n",
    "```\n",
    "---\n",
    "\n",
    "```bash       \n",
    "docker run --rm -ti --cap-add SYS_ADMIN ljishen/perf:4.9-python3 stat \\\n",
    "    python3 -m timeit -s \"expr = lambda v: v not in list(b'0123456789')[:1]\" \"expr(48)\"\n",
    "1000000 loops, best of 3: 0.46 usec per loop\n",
    "\n",
    " Performance counter stats for 'python3 -m timeit -s expr = lambda x: x not in list(b'0123456789')[:1] expr(48)':\n",
    "\n",
    "       2211.099283      task-clock (msec)         #    0.996 CPUs utilized          \n",
    "                 6      context-switches          #    0.003 K/sec                  \n",
    "                 0      cpu-migrations            #    0.000 K/sec                  \n",
    "              3629      page-faults               #    0.002 M/sec                  \n",
    "        6741664677      cycles                    #    3.049 GHz                    \n",
    "       15562575721      instructions              #    2.31  insn per cycle         \n",
    "        3547408130      branches                  # 1604.364 M/sec                  \n",
    "           8796172      branch-misses             #    0.25% of all branches        \n",
    "\n",
    "       2.219600636 seconds time elapsed\n",
    "```\n",
    "\n",
    "To summarize,\n",
    "\n",
    "|Selectivity | Function                                    | CPU Cycles (1000000 loop)  | Time (usec per loop)  |\n",
    "|:-----------|:--------------------------------------------|:---------------------------|:----------------------|\n",
    "|High        |lambda v: v not in list(b'0123456789')[:9]  | 6914129443                 | 0.53                  |\n",
    "|Low         |lambda v: v not in list(b'0123456789')[:1]  | 6741664677                 | 0.46                  |"
   ]
  },
  {
   "cell_type": "markdown",
   "metadata": {},
   "source": [
    "## Experiment Setup"
   ]
  },
  {
   "cell_type": "markdown",
   "metadata": {},
   "source": [
    "![experiment_setup](https://raw.githubusercontent.com/ljishen/eucycles/master/analysis/images/experiment_setup.png)"
   ]
  }
 ],
 "metadata": {
  "kernelspec": {
   "display_name": "Python 3",
   "language": "python",
   "name": "python3"
  },
  "language_info": {
   "codemirror_mode": {
    "name": "ipython",
    "version": 3
   },
   "file_extension": ".py",
   "mimetype": "text/x-python",
   "name": "python",
   "nbconvert_exporter": "python",
   "pygments_lexer": "ipython3",
   "version": "3.6.5"
  }
 },
 "nbformat": 4,
 "nbformat_minor": 2
}
