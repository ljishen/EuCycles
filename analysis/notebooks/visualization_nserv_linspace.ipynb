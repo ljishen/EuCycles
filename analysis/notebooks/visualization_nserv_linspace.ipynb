{
 "cells": [
  {
   "cell_type": "code",
   "execution_count": 1,
   "metadata": {},
   "outputs": [],
   "source": [
    "from IPython.display import display, HTML, Markdown\n",
    "\n",
    "import matplotlib.pyplot as plt\n",
    "\n",
    "import numpy as np\n",
    "import pandas as pd"
   ]
  },
  {
   "cell_type": "code",
   "execution_count": 2,
   "metadata": {},
   "outputs": [],
   "source": [
    "FILE_PATH = '../backups/pyben-nio/output_raw_8servs_arm/result.json'\n",
    "\n",
    "with open(FILE_PATH, 'r') as fobj:\n",
    "    df = pd.read_json(fobj)\n",
    "\n",
    "for col in df.columns:\n",
    "    size_df = df[col]\n",
    "\n",
    "    for nservs in size_df.index:\n",
    "        nservs_df = size_df[nservs]\n",
    "\n",
    "        client_bitrates = nservs_df['bitrate']['client']\n",
    "        nservs_df['bitrate']['client'] = \\\n",
    "            {'avg': np.mean(client_bitrates), 'std': np.std(client_bitrates, ddof=1)}\n",
    "\n",
    "        client_cycles = nservs_df['cycles']['client']\n",
    "        nservs_df['cycles']['client'] = \\\n",
    "            {'avg': np.mean(client_cycles), 'std': np.std(client_cycles, ddof=1)}\n",
    "\n",
    "        servers_bitrates = []\n",
    "        servers_cycles = []\n",
    "        for serv_idx in range(nservs):\n",
    "            bitrates = [arr[serv_idx] for arr in nservs_df['bitrate']['servers']]\n",
    "            servers_bitrates.append(\n",
    "                {'avg': np.mean(bitrates), 'std': np.std(bitrates, ddof=1)})\n",
    "\n",
    "            cycles = [arr[serv_idx] for arr in nservs_df['cycles']['servers']]\n",
    "            servers_cycles.append(\n",
    "                {'avg': np.mean(cycles), 'std': np.std(cycles, ddof=1)})\n",
    "\n",
    "        nservs_df['bitrate']['servers'] = servers_bitrates\n",
    "        nservs_df['cycles']['servers'] = servers_cycles"
   ]
  }
 ],
 "metadata": {
  "kernelspec": {
   "display_name": "Python 3",
   "language": "python",
   "name": "python3"
  },
  "language_info": {
   "codemirror_mode": {
    "name": "ipython",
    "version": 3
   },
   "file_extension": ".py",
   "mimetype": "text/x-python",
   "name": "python",
   "nbconvert_exporter": "python",
   "pygments_lexer": "ipython3",
   "version": "3.6.4"
  }
 },
 "nbformat": 4,
 "nbformat_minor": 2
}
